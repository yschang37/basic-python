{
 "cells": [
  {
   "cell_type": "markdown",
   "metadata": {},
   "source": [
    "在翻閱 Python 的函式庫時常常會看到定義參數的地方放了 *args 和 **kwargs 這樣的東西，這究竟是什麼呢？讓我們先談談函式參數的定義。\n",
    "預設參數\n",
    "  一般的定義方法就不多說了，直接來看有預設值的參數："
   ]
  },
  {
   "cell_type": "code",
   "execution_count": 13,
   "metadata": {},
   "outputs": [],
   "source": [
    "def plus(a, b, c=None):\n",
    "    res = a + b + (c if c else 0)\n",
    "    return res"
   ]
  },
  {
   "cell_type": "markdown",
   "metadata": {},
   "source": [
    " 預設參數的用處通常是實作函式重載用的，可以使一個函式在接受引數時更有彈性，而要注意的語法問題是：預設參數在函式定義時一定要放在非預設參數的後面。\n",
    "  但如果我們想實作無限版的 plus() 函式呢？總不可能一直增加預設參數吧！  這時候我們可以用「*」來將引數收集到一個 tuple 中。"
   ]
  },
  {
   "cell_type": "markdown",
   "metadata": {},
   "source": [
    "*－收集至 Tuple\n",
    "  先來看看範例："
   ]
  },
  {
   "cell_type": "code",
   "execution_count": 14,
   "metadata": {},
   "outputs": [],
   "source": [
    "def plus(*nums):\n",
    "    res = 0\n",
    "    for i in nums:\n",
    "        res += i\n",
    "    return res"
   ]
  },
  {
   "cell_type": "code",
   "execution_count": 16,
   "metadata": {},
   "outputs": [
    {
     "data": {
      "text/plain": [
       "10"
      ]
     },
     "execution_count": 16,
     "metadata": {},
     "output_type": "execute_result"
    }
   ],
   "source": [
    "plus(10)"
   ]
  },
  {
   "cell_type": "markdown",
   "metadata": {},
   "source": [
    "透過 * 收集的引數會被放到一個 tuple 中，所以我們可以使用 for 來對它進行迭代。\n",
    "\n",
    "  這樣就可以理解為什麼要使用 *args 這個參數了，但是 **kwargs 又是什麼呢？我們要先從關鍵字引數來說起：\n",
    "關鍵字引數 Keyword Argument\n",
    "  在呼叫 print() 時，我們有時會指定 sep 參數做為分隔輸出的字元，或是使用 end 參數來更改最後的換行字元。像這樣不用理會參數的真正順序，而只要給定名字然後指定值的情況，就是在使用關鍵字引數。\n",
    "  如果我們要指定的參數太多而造成版面不簡潔的話，可以考慮使用「**」來拆解一個裝有參數名與值的 dict。"
   ]
  },
  {
   "cell_type": "markdown",
   "metadata": {},
   "source": [
    "** 第一招－拆解 Dict\n",
    "  原諒我使用這麼中二的小標題XDD\n",
    "  直接看實例應該就能懂了："
   ]
  },
  {
   "cell_type": "code",
   "execution_count": 1,
   "metadata": {},
   "outputs": [],
   "source": [
    "dt = {'sep': ' # ', 'end': '\\n\\n'}"
   ]
  },
  {
   "cell_type": "code",
   "execution_count": 2,
   "metadata": {},
   "outputs": [
    {
     "name": "stdout",
     "output_type": "stream",
     "text": [
      "hello # world\n",
      "\n"
     ]
    }
   ],
   "source": [
    "print('hello', 'world', **dt)"
   ]
  },
  {
   "cell_type": "code",
   "execution_count": 4,
   "metadata": {},
   "outputs": [
    {
     "name": "stdout",
     "output_type": "stream",
     "text": [
      "hello world sep end\n"
     ]
    }
   ],
   "source": [
    "print('hello', 'world', *dt)"
   ]
  },
  {
   "cell_type": "code",
   "execution_count": 5,
   "metadata": {},
   "outputs": [
    {
     "name": "stdout",
     "output_type": "stream",
     "text": [
      "hello world {'sep': ' # ', 'end': '\\n\\n'}\n"
     ]
    }
   ],
   "source": [
    "print('hello', 'world', dt)"
   ]
  },
  {
   "cell_type": "code",
   "execution_count": 3,
   "metadata": {},
   "outputs": [
    {
     "name": "stdout",
     "output_type": "stream",
     "text": [
      "hello world\n"
     ]
    }
   ],
   "source": [
    "print('hello','world')"
   ]
  },
  {
   "cell_type": "markdown",
   "metadata": {},
   "source": [
    "** 第二招－收集至 Dict\n",
    "  雖然我們可以用上面的單星號來收集到一個 tuple 中，但這樣哪能知道第幾個元素代表什麼、也無法隨心所欲的選擇參數傳入了。這時我們就可以再次利用 ** 以及 dict 「具名」的性質來定義函式："
   ]
  },
  {
   "cell_type": "code",
   "execution_count": 7,
   "metadata": {},
   "outputs": [],
   "source": [
    "def fun(**_settings):\n",
    "    print(_settings)"
   ]
  },
  {
   "cell_type": "code",
   "execution_count": 8,
   "metadata": {},
   "outputs": [
    {
     "name": "stdout",
     "output_type": "stream",
     "text": [
      "{'name': 'Sky', 'attack': 100, 'hp': 500}\n"
     ]
    }
   ],
   "source": [
    "fun(name='Sky', attack=100, hp=500)\n",
    "# {'name': 'Sky', 'attack': 100, 'hp': 500}"
   ]
  },
  {
   "cell_type": "markdown",
   "metadata": {},
   "source": [
    "可以看到，傳入的引數被收集成一個 dict 了，那我們要怎麼利用這個 dict 呢？可以如下："
   ]
  },
  {
   "cell_type": "code",
   "execution_count": 9,
   "metadata": {},
   "outputs": [
    {
     "name": "stdout",
     "output_type": "stream",
     "text": [
      "{'name': 'Sky', 'attack': 100, 'defense': 0, 'hp': 500}\n"
     ]
    }
   ],
   "source": [
    "def fun(**_settings):\n",
    "    settings = {\n",
    "        'name': _settings.get('name', 'Hello'),\n",
    "        'attack': _settings.get('attack', 50),\n",
    "        'defense': _settings.get('defense', 0),\n",
    "        'hp': _settings.get('hp', 150)\n",
    "    }\n",
    "    print(settings)\n",
    "\n",
    "fun(name='Sky', attack=100, hp=500)\n",
    "# {'name': 'Sky', 'attack': 100, 'defense': 0, 'hp': 500}"
   ]
  },
  {
   "cell_type": "markdown",
   "metadata": {},
   "source": [
    "注意到第 5 行，我們還可以順便給定預設值，這不就跟一開始的預設參數一樣了嗎？"
   ]
  },
  {
   "cell_type": "markdown",
   "metadata": {},
   "source": [
    "集大成－ * 與 ** 雙管齊下\n",
    "* 和 ** 都很方便，但用了 * 就不能指名；而用了 ** 就一定要指名，好像有點美中不足。其實我們可以將這兩個合併起來使用，就如同我們常看到的一樣，可以接受任意引數："
   ]
  },
  {
   "cell_type": "code",
   "execution_count": 10,
   "metadata": {},
   "outputs": [],
   "source": [
    "def fun(*args, **kwargs):\n",
    "    print(args, kwargs, sep='\\n')"
   ]
  },
  {
   "cell_type": "markdown",
   "metadata": {},
   "source": [
    "唯一要注意的是，* 一定要在 ** 的前面，而呼叫函式時有名字的也一定要在沒名字的後面。這種集大成的寫法通常會在裝飾器時使用，讓裝飾器可以接受參數數量不同的函式。"
   ]
  },
  {
   "cell_type": "markdown",
   "metadata": {},
   "source": [
    "再談 * 的其它用法\n",
    "  我們可以在傳入引數時使用 ** 來拆解 dict，那就不能用 * 來拆解 tuple 嗎？其實是可以的，只是我覺得這個沒那麼難理解，就沒有寫出來了。\n",
    "  另外，在 Python 3 裡，可以在定義函式時使用單獨的 * 來做為非指名參數和指名參數（唯-關鍵字引數，Keyword-Only Arguments）的區隔，底下這個範例結合了本文最上面的預設參數："
   ]
  },
  {
   "cell_type": "code",
   "execution_count": 11,
   "metadata": {},
   "outputs": [
    {
     "name": "stdout",
     "output_type": "stream",
     "text": [
      "1 2 3 4\n",
      "10 20 30 40\n"
     ]
    }
   ],
   "source": [
    "def fun(a, b=20, *, kw1, kw2=40):\n",
    "    print(a, b, kw1, kw2)\n",
    "\n",
    "fun(1, 2, kw1=3, kw2=4)  # 1 2 3 4\n",
    "fun(10, kw1=30)  # 10 20 30 40\n",
    "# 在傳入引數時，在 * 後面的（kw1 和 kw2）一定要以關鍵字引數（指名）傳入"
   ]
  },
  {
   "cell_type": "markdown",
   "metadata": {},
   "source": [
    "這個寫法可以限制使用者一定要指名傳入引數，而不是依賴原本的順序。\n",
    "超級集大成\n",
    "  我們可以將 *args、分隔用的 *、以及 **kwargs 一起使用： "
   ]
  },
  {
   "cell_type": "code",
   "execution_count": 12,
   "metadata": {},
   "outputs": [
    {
     "name": "stdout",
     "output_type": "stream",
     "text": [
      "1 # (2, 3, 4, 5) # 6 # {'g': 7, 'f': 8, 'l': 9}\n"
     ]
    }
   ],
   "source": [
    "def fun(a, *args, kw1, **kwargs):\n",
    "    print(a, args, kw1, kwargs, sep=' # ')\n",
    "\n",
    "fun(1, 2, 3, 4, 5, kw1=6, g=7, f=8, l=9)\n",
    "# 1 # (2, 3, 4, 5) # 6 # {'g': 7, 'f': 8, 'l': 9}"
   ]
  },
  {
   "cell_type": "markdown",
   "metadata": {},
   "source": [
    " 可以看到這裡的 *args 同時扮演了原本和分隔的角色。\n",
    "  好啦，我覺得這個部分可能已經不是像我這樣的新手能好好利用的了，所以就僅止於介紹而已。 \n",
    "\n",
    "  這次就到這邊了！謝謝大家的閱讀m(_ _)m，如有疑慮或指正歡迎留言提出。"
   ]
  },
  {
   "cell_type": "code",
   "execution_count": 20,
   "metadata": {},
   "outputs": [],
   "source": [
    "word = 'Python'"
   ]
  },
  {
   "cell_type": "code",
   "execution_count": 22,
   "metadata": {},
   "outputs": [],
   "source": [
    "word = list(word)"
   ]
  },
  {
   "cell_type": "code",
   "execution_count": 23,
   "metadata": {},
   "outputs": [
    {
     "data": {
      "text/plain": [
       "['P', 'y', 't', 'h', 'o', 'n']"
      ]
     },
     "execution_count": 23,
     "metadata": {},
     "output_type": "execute_result"
    }
   ],
   "source": [
    "word"
   ]
  },
  {
   "cell_type": "code",
   "execution_count": 25,
   "metadata": {},
   "outputs": [
    {
     "data": {
      "text/plain": [
       "'Python'"
      ]
     },
     "execution_count": 25,
     "metadata": {},
     "output_type": "execute_result"
    }
   ],
   "source": [
    "''.join(word)"
   ]
  },
  {
   "cell_type": "code",
   "execution_count": 26,
   "metadata": {},
   "outputs": [],
   "source": [
    "a, b, c = 1, 2, 3"
   ]
  },
  {
   "cell_type": "code",
   "execution_count": 27,
   "metadata": {},
   "outputs": [
    {
     "data": {
      "text/plain": [
       "1"
      ]
     },
     "execution_count": 27,
     "metadata": {},
     "output_type": "execute_result"
    }
   ],
   "source": [
    "a"
   ]
  },
  {
   "cell_type": "code",
   "execution_count": 28,
   "metadata": {},
   "outputs": [
    {
     "data": {
      "text/plain": [
       "2"
      ]
     },
     "execution_count": 28,
     "metadata": {},
     "output_type": "execute_result"
    }
   ],
   "source": [
    "b"
   ]
  },
  {
   "cell_type": "code",
   "execution_count": 29,
   "metadata": {},
   "outputs": [
    {
     "data": {
      "text/plain": [
       "3"
      ]
     },
     "execution_count": 29,
     "metadata": {},
     "output_type": "execute_result"
    }
   ],
   "source": [
    "c"
   ]
  },
  {
   "cell_type": "code",
   "execution_count": 32,
   "metadata": {},
   "outputs": [],
   "source": [
    "def fib(n):    # write Fibonacci series up to n\n",
    "...     \"\"\"Print a Fibonacci series up to n.\"\"\"\n",
    "...     a, b = 0, 1\n",
    "...     while a < n:\n",
    "...         print(a, end=' ')\n",
    "...         a, b = b, a+b\n",
    "...     print()\n"
   ]
  },
  {
   "cell_type": "code",
   "execution_count": 33,
   "metadata": {},
   "outputs": [
    {
     "name": "stdout",
     "output_type": "stream",
     "text": [
      "0 1 1 2 3 5 8 \n"
     ]
    }
   ],
   "source": [
    "fib(10)"
   ]
  },
  {
   "cell_type": "code",
   "execution_count": 36,
   "metadata": {},
   "outputs": [],
   "source": [
    "def pri(arg):\n",
    "    print(arg)"
   ]
  },
  {
   "cell_type": "markdown",
   "metadata": {},
   "source": [
    "keyword argument: an argument preceded by an identifier (e.g. name=) in a function call or passed as a value in a dictionary preceded by **. For example, 3 and 5 are both keyword arguments in the following calls to complex():"
   ]
  },
  {
   "cell_type": "code",
   "execution_count": 39,
   "metadata": {},
   "outputs": [
    {
     "data": {
      "text/plain": [
       "(3+5j)"
      ]
     },
     "execution_count": 39,
     "metadata": {},
     "output_type": "execute_result"
    }
   ],
   "source": [
    "complex(real=3, imag=5)"
   ]
  },
  {
   "cell_type": "code",
   "execution_count": 42,
   "metadata": {},
   "outputs": [
    {
     "data": {
      "text/plain": [
       "(3+5j)"
      ]
     },
     "execution_count": 42,
     "metadata": {},
     "output_type": "execute_result"
    }
   ],
   "source": [
    "complex(**{'real': 3, 'imag': 5})"
   ]
  },
  {
   "cell_type": "markdown",
   "metadata": {},
   "source": [
    "positional argument: an argument that is not a keyword argument. Positional arguments can appear at the beginning of an argument list and/or be passed as elements of an iterable preceded by *. For example, 3 and 5 are both positional arguments in the following calls:"
   ]
  },
  {
   "cell_type": "code",
   "execution_count": 43,
   "metadata": {},
   "outputs": [
    {
     "data": {
      "text/plain": [
       "(3+5j)"
      ]
     },
     "execution_count": 43,
     "metadata": {},
     "output_type": "execute_result"
    }
   ],
   "source": [
    "complex(3, 5)"
   ]
  },
  {
   "cell_type": "code",
   "execution_count": 44,
   "metadata": {},
   "outputs": [
    {
     "data": {
      "text/plain": [
       "(3+5j)"
      ]
     },
     "execution_count": 44,
     "metadata": {},
     "output_type": "execute_result"
    }
   ],
   "source": [
    "complex(*(3, 5))"
   ]
  },
  {
   "cell_type": "code",
   "execution_count": null,
   "metadata": {},
   "outputs": [],
   "source": []
  }
 ],
 "metadata": {
  "kernelspec": {
   "display_name": "Python 3",
   "language": "python",
   "name": "python3"
  },
  "language_info": {
   "codemirror_mode": {
    "name": "ipython",
    "version": 3
   },
   "file_extension": ".py",
   "mimetype": "text/x-python",
   "name": "python",
   "nbconvert_exporter": "python",
   "pygments_lexer": "ipython3",
   "version": "3.7.1"
  }
 },
 "nbformat": 4,
 "nbformat_minor": 2
}
