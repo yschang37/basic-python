{
 "cells": [
  {
   "cell_type": "markdown",
   "metadata": {},
   "source": [
    "# Problem Set"
   ]
  },
  {
   "cell_type": "code",
   "execution_count": 14,
   "metadata": {},
   "outputs": [],
   "source": [
    "def getWordScore(word, n):\n",
    "    \"\"\"\n",
    "    Returns the score for a word. Assumes the word is a valid word.\n",
    "\n",
    "    The score for a word is the sum of the points for letters in the\n",
    "    word, multiplied by the length of the word, PLUS 50 points if all n\n",
    "    letters are used on the first turn.\n",
    "\n",
    "    Letters are scored as in Scrabble; A is worth 1, B is worth 3, C is\n",
    "    worth 3, D is worth 2, E is worth 1, and so on (see SCRABBLE_LETTER_VALUES)\n",
    "\n",
    "    word: string (lowercase letters)\n",
    "    n: integer (HAND_SIZE; i.e., hand size required for additional points)\n",
    "    returns: int >= 0\n",
    "    \"\"\"\n",
    "    # TO DO ... <-- Remove this comment when you code this function\n",
    "    score = 0\n",
    "    SCRABBLE_LETTER_VALUES = {\n",
    "        'a': 1, 'b': 3, 'c': 3, 'd': 2, 'e': 1, 'f': 4, 'g': 2, 'h': 4, 'i': 1, 'j': 8, 'k': 5, 'l': 1, 'm': 3, 'n': 1, 'o': 1, 'p': 3, 'q': 10, 'r': 1, 's': 1, 't': 1, 'u': 1, 'v': 4, 'w': 4, 'x': 8, 'y': 4, 'z': 10\n",
    "    }\n",
    "    for letter in word:\n",
    "        score += SCRABBLE_LETTER_VALUES[letter]\n",
    "    return score"
   ]
  },
  {
   "cell_type": "code",
   "execution_count": 15,
   "metadata": {},
   "outputs": [],
   "source": [
    "SCRABBLE_LETTER_VALUES = {\n",
    "        'a': 1, 'b': 3, 'c': 3, 'd': 2, 'e': 1, 'f': 4, 'g': 2, 'h': 4, 'i': 1, 'j': 8, 'k': 5, 'l': 1, 'm': 3, 'n': 1, 'o': 1, 'p': 3, 'q': 10, 'r': 1, 's': 1, 't': 1, 'u': 1, 'v': 4, 'w': 4, 'x': 8, 'y': 4, 'z': 10\n",
    "    }"
   ]
  },
  {
   "cell_type": "code",
   "execution_count": 16,
   "metadata": {},
   "outputs": [
    {
     "data": {
      "text/plain": [
       "dict"
      ]
     },
     "execution_count": 16,
     "metadata": {},
     "output_type": "execute_result"
    }
   ],
   "source": [
    "type(SCRABBLE_LETTER_VALUES)"
   ]
  },
  {
   "cell_type": "code",
   "execution_count": 17,
   "metadata": {},
   "outputs": [
    {
     "data": {
      "text/plain": [
       "3"
      ]
     },
     "execution_count": 17,
     "metadata": {},
     "output_type": "execute_result"
    }
   ],
   "source": [
    "getWordScore('p',4)"
   ]
  },
  {
   "cell_type": "code",
   "execution_count": null,
   "metadata": {},
   "outputs": [],
   "source": []
  }
 ],
 "metadata": {
  "kernelspec": {
   "display_name": "Python 3",
   "language": "python",
   "name": "python3"
  },
  "language_info": {
   "codemirror_mode": {
    "name": "ipython",
    "version": 3
   },
   "file_extension": ".py",
   "mimetype": "text/x-python",
   "name": "python",
   "nbconvert_exporter": "python",
   "pygments_lexer": "ipython3",
   "version": "3.6.4"
  }
 },
 "nbformat": 4,
 "nbformat_minor": 2
}
